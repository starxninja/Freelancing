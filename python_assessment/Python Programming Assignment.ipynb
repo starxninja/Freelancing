{
 "cells": [
  {
   "cell_type": "markdown",
   "metadata": {},
   "source": [
    "**Format**: Jupyter Notebook Required \\\n",
    "**Objective**: To assess understanding and application of basic Python concepts and libraries.\n",
    "\n",
    "**Module Code**: MATH00041\\\n",
    "**Module Title**: Introduction to Programming\\\n",
    "**Module Leader**: Archontis Giannakidis, PhD\\\n",
    "**Contribution to module**: 70%\\\n",
    "**Date Set**: July 30th 2025, 2:30pm\\\n",
    "**Deadline for Submission**: August 8th 2025, 2:30pm\\\n",
    "**Method for Submission of Jupyter Notebook**: NOW Dropbox\\\n",
    "**Deadline for Feedback**: August 29th 2025\\\n",
    "**Method of Feedback**: NOW Dropbox\n",
    "\n",
    "---\n",
    "Work handed in up to five working days late will be given a maximum Grade of Low Third whilst work that arrives more than five working days will be given a mark of zero.\n",
    "Work will only be accepted beyond the five working day deadline if satisfactory evidence, for example, an NEC is provided. https://www.ntu.ac.uk/studenthub/my-course/student-handbook/submit-a-notification-of-extenuating-circumstances\n",
    "Submit a Notification of Extenuating Circumstances\n",
    "Find out what constitutes extenuating circumstances and how to submit a Notification of Extenuating Circumstances (NEC).\n",
    "www.ntu.ac.uk \n",
    "\n",
    "The University views plagiarism and collusion as serious academic irregularities and there are a number of different penalties which may be applied to such offences. The Student Handbook has a section on Academic Irregularities, which outlines the penalties and states that plagiarism includes:\n",
    "'The incorporation of material (including text, graph, diagrams, videos etc.) derived from the work (published or unpublished) of another, by unacknowledged quotation, paraphrased imitation or other device in any work submitted for progression towards or for the completion of an award, which in any way suggests that it is the student's own original work. Such work may include printed material in textbooks, journals and material accessible electronically for example from web pages.'\n",
    "Whereas collusion includes:\n",
    "“Unauthorised and unacknowledged copying or use of material prepared by another person for use in submitted work. This may be with or without their consent or agreement to the copying or use of their work.”\n",
    "If copied with the agreement of the other candidate both parties are considered guilty of Academic Irregularity.\n",
    "Please remember submitting portions of work already assessed is Self-Plagiarism and is also a serious academic irregularity.\n",
    "Penalties for Academic irregularities range from capped or zero grades for elements of modules, to dismissal from the course and termination of studies.\n",
    "To ensure that you are not accused of plagiarism, look at the sections on Plagiarism Support and Turnitin support.\n",
    "\n",
    "This coursework counts for 70% of your module mark. You can achieve a maximum of 70 marks. You should attempt all questions. You should write your code and provide your answers in a Jupyter Notebook. Comment your code where necessary to explain your logic. Ensure your code is runnable and free of syntax errors. You are allowed to use built-in functions where appropriate. Submit the Jupyter Notebook (*.ipynb) to the NOW module Dropbox. This coursework is an ‘element of assessment’ which means you need to pass it in order to pass the module. All work will be submitted to Turnitin as a means to check for plagiarism. Plagiarism will not be tolerated, students are reminded that this is an individual assignment.\n",
    "\n"
   ]
  },
  {
   "cell_type": "markdown",
   "metadata": {},
   "source": [
    "# Question 1 (23 marks)\n",
    "**Objective**: Perform basic data analysis on the provided CSV dataset (sample_data.csv), which includes reading the data, performing calculations and queries, visualising the data, and using object-oriented programming concepts. For each task, write the Python code and print the final results."
   ]
  },
  {
   "cell_type": "markdown",
   "metadata": {},
   "source": [
    "Task: Load the CSV dataset and create a dataframe. **(1 mark)**"
   ]
  },
  {
   "cell_type": "code",
   "execution_count": 2,
   "metadata": {},
   "outputs": [],
   "source": [
    "# Task: Load the CSV dataset and create a dataframe. **(1 mark)**\n",
    "import pandas as pd\n",
    "\n",
    "df = pd.read_csv('sample_data.csv')"
   ]
  },
  {
   "cell_type": "markdown",
   "metadata": {},
   "source": [
    "Task: Print the whole dataset. **(1 mark)**"
   ]
  },
  {
   "cell_type": "code",
   "execution_count": 3,
   "metadata": {
    "scrolled": true
   },
   "outputs": [
    {
     "name": "stdout",
     "output_type": "stream",
     "text": [
      "      ID  Age   Salary  Experience  Rating\n",
      "0      1   18  63930.0           6    2.49\n",
      "1      2   21  76774.0           9    3.10\n",
      "2      3   21  58651.0          12    4.00\n",
      "3      4   57  92885.0          15    2.33\n",
      "4      5   27  45997.0           1    4.70\n",
      "..   ...  ...      ...         ...     ...\n",
      "195  196   41  97840.0          19    1.76\n",
      "196  197   50  41909.0           9    1.08\n",
      "197  198   29  44281.0          19    3.07\n",
      "198  199   58  48387.0           8    4.37\n",
      "199  200   38  90935.0          11    2.49\n",
      "\n",
      "[200 rows x 5 columns]\n"
     ]
    }
   ],
   "source": [
    "# Task: Print the whole dataset. **(1 mark)**\n",
    "print(df)"
   ]
  },
  {
   "cell_type": "markdown",
   "metadata": {},
   "source": [
    "Task: Calculate how many records are in the dataset. **(1 mark)**"
   ]
  },
  {
   "cell_type": "code",
   "execution_count": 4,
   "metadata": {},
   "outputs": [
    {
     "name": "stdout",
     "output_type": "stream",
     "text": [
      "Number of records: 200\n"
     ]
    }
   ],
   "source": [
    "# Task: Calculate how many records are in the dataset. **(1 mark)**\n",
    "print(\"Number of records:\", len(df))"
   ]
  },
  {
   "cell_type": "markdown",
   "metadata": {},
   "source": [
    "Task: Find how many missing values are in the dataset and fill them with the mean value of the respective column. Print the updated dataset. **(2 marks)**"
   ]
  },
  {
   "cell_type": "code",
   "execution_count": 5,
   "metadata": {
    "scrolled": true
   },
   "outputs": [
    {
     "name": "stdout",
     "output_type": "stream",
     "text": [
      "Missing values in each column:\n",
      " ID            0\n",
      "Age           0\n",
      "Salary        4\n",
      "Experience    0\n",
      "Rating        0\n",
      "dtype: int64\n",
      "Updated dataset after filling missing values with mean:\n",
      "      ID  Age   Salary  Experience  Rating\n",
      "0      1   18  63930.0           6    2.49\n",
      "1      2   21  76774.0           9    3.10\n",
      "2      3   21  58651.0          12    4.00\n",
      "3      4   57  92885.0          15    2.33\n",
      "4      5   27  45997.0           1    4.70\n",
      "..   ...  ...      ...         ...     ...\n",
      "195  196   41  97840.0          19    1.76\n",
      "196  197   50  41909.0           9    1.08\n",
      "197  198   29  44281.0          19    3.07\n",
      "198  199   58  48387.0           8    4.37\n",
      "199  200   38  90935.0          11    2.49\n",
      "\n",
      "[200 rows x 5 columns]\n"
     ]
    }
   ],
   "source": [
    "# Task: Find how many missing values are in the dataset and fill them with the mean value of the respective column. Print the updated dataset. **(2 marks)**\n",
    "missing_values = df.isnull().sum()\n",
    "print(\"Missing values in each column:\\n\", missing_values)\n",
    "\n",
    "# Fill missing values with mean (only for numeric columns)\n",
    "df_filled = df.fillna(df.mean(numeric_only=True))\n",
    "print(\"Updated dataset after filling missing values with mean:\")\n",
    "print(df_filled)"
   ]
  },
  {
   "cell_type": "markdown",
   "metadata": {},
   "source": [
    "Task: What is the mean and standard deviation of the 'Age' of individuals in the dataset? **(2 marks)**"
   ]
  },
  {
   "cell_type": "code",
   "execution_count": 6,
   "metadata": {},
   "outputs": [
    {
     "name": "stdout",
     "output_type": "stream",
     "text": [
      "Mean Age: 38.11\n",
      "Standard Deviation of Age: 12.817932633031141\n"
     ]
    }
   ],
   "source": [
    "# Task: What is the mean and standard deviation of the 'Age' of individuals in the dataset? **(2 marks)**\n",
    "mean_age = df_filled['Age'].mean()\n",
    "std_age = df_filled['Age'].std()\n",
    "print(f\"Mean Age: {mean_age}\")\n",
    "print(f\"Standard Deviation of Age: {std_age}\")"
   ]
  },
  {
   "cell_type": "markdown",
   "metadata": {},
   "source": [
    "Task: What is the highest and lowest 'Salary' of individuals in the dataset? **(2 marks)**"
   ]
  },
  {
   "cell_type": "code",
   "execution_count": 7,
   "metadata": {},
   "outputs": [
    {
     "name": "stdout",
     "output_type": "stream",
     "text": [
      "Highest Salary: 99939.0\n",
      "Lowest Salary: 30851.0\n"
     ]
    }
   ],
   "source": [
    "# Task: What is the highest and lowest 'Salary' of individuals in the dataset? **(2 marks)**\n",
    "max_salary = df_filled['Salary'].max()\n",
    "min_salary = df_filled['Salary'].min()\n",
    "print(f\"Highest Salary: {max_salary}\")\n",
    "print(f\"Lowest Salary: {min_salary}\")"
   ]
  },
  {
   "cell_type": "markdown",
   "metadata": {},
   "source": [
    "Task: Estimate the average 'Salary' of the 'Age' groups: 18-30, 31-40, 41-50, 51-60. **(1 mark)**"
   ]
  },
  {
   "cell_type": "code",
   "execution_count": 8,
   "metadata": {},
   "outputs": [
    {
     "name": "stdout",
     "output_type": "stream",
     "text": [
      "Average Salary by Age Group:\n",
      "Age Group\n",
      "18-30    65791.592793\n",
      "31-40    68531.510204\n",
      "41-50    68267.995520\n",
      "51-60    64823.782609\n",
      "Name: Salary, dtype: float64\n"
     ]
    },
    {
     "name": "stderr",
     "output_type": "stream",
     "text": [
      "C:\\Users\\Talha\\AppData\\Local\\Temp\\ipykernel_5508\\1262299835.py:5: FutureWarning: The default of observed=False is deprecated and will be changed to True in a future version of pandas. Pass observed=False to retain current behavior or observed=True to adopt the future default and silence this warning.\n",
      "  avg_salary_by_age_group = df_filled.groupby('Age Group')['Salary'].mean()\n"
     ]
    }
   ],
   "source": [
    "# Task: Estimate the average 'Salary' of the 'Age' groups: 18-30, 31-40, 41-50, 51-60. **(1 mark)**\n",
    "age_bins = [18, 30, 40, 50, 60]\n",
    "age_labels = ['18-30', '31-40', '41-50', '51-60']\n",
    "df_filled['Age Group'] = pd.cut(df_filled['Age'], bins=age_bins, labels=age_labels, right=True, include_lowest=True)\n",
    "avg_salary_by_age_group = df_filled.groupby('Age Group')['Salary'].mean()\n",
    "print(\"Average Salary by Age Group:\")\n",
    "print(avg_salary_by_age_group)"
   ]
  },
  {
   "cell_type": "markdown",
   "metadata": {},
   "source": [
    "Task: What is the correlation between 'Experience' and 'Salary'? **(1 mark)**"
   ]
  },
  {
   "cell_type": "code",
   "execution_count": 9,
   "metadata": {},
   "outputs": [
    {
     "name": "stdout",
     "output_type": "stream",
     "text": [
      "Correlation between Experience and Salary: -0.10411094231150497\n"
     ]
    }
   ],
   "source": [
    "# Task: What is the correlation between 'Experience' and 'Salary'? **(1 mark)**\n",
    "correlation = df_filled['Experience'].corr(df_filled['Salary'])\n",
    "print(f\"Correlation between Experience and Salary: {correlation}\")"
   ]
  },
  {
   "cell_type": "markdown",
   "metadata": {},
   "source": [
    "Task: Plot the histogram of the 'Rating'. Include appropriate axis labels and title. **(2 marks)**"
   ]
  },
  {
   "cell_type": "code",
   "execution_count": 10,
   "metadata": {},
   "outputs": [
    {
     "data": {
      "image/png": "[encoded data removed]",
      "text/plain": [
       "<Figure size 640x480 with 1 Axes>"
      ]
     },
     "metadata": {},
     "output_type": "display_data"
    }
   ],
   "source": [
    "# Task: Plot the histogram of the 'Rating'. Include appropriate axis labels and title. **(2 marks)**\n",
    "import matplotlib.pyplot as plt\n",
    "\n",
    "plt.hist(df_filled['Rating'], bins=10, color='skyblue', edgecolor='black')\n",
    "plt.xlabel('Rating')\n",
    "plt.ylabel('Frequency')\n",
    "plt.title('Histogram of Ratings')\n",
    "plt.show()"
   ]
  },
  {
   "cell_type": "markdown",
   "metadata": {},
   "source": [
    "Task: How many individuals have 'Experience' of more than 10 years? **(1 mark)**"
   ]
  },
  {
   "cell_type": "code",
   "execution_count": 11,
   "metadata": {},
   "outputs": [
    {
     "name": "stdout",
     "output_type": "stream",
     "text": [
      "Number of individuals with more than 10 years of experience: 94\n"
     ]
    }
   ],
   "source": [
    "# Task: How many individuals have 'Experience' of more than 10 years? **(1 mark)**\n",
    "count_exp_above_10 = (df_filled['Experience'] > 10).sum()\n",
    "print(f\"Number of individuals with more than 10 years of experience: {count_exp_above_10}\")"
   ]
  },
  {
   "cell_type": "markdown",
   "metadata": {},
   "source": [
    "Task: Generate a scatter plot of 'Age' Vs 'Salary'. Include appropriate axis labels and title. **(2 marks)**"
   ]
  },
  {
   "cell_type": "code",
   "execution_count": 12,
   "metadata": {},
   "outputs": [
    {
     "data": {
      "image/png": "[encoded data removed]",
      "text/plain": [
       "<Figure size 640x480 with 1 Axes>"
      ]
     },
     "metadata": {},
     "output_type": "display_data"
    }
   ],
   "source": [
    "# Task: Generate a scatter plot of 'Age' Vs 'Salary'. Include appropriate axis labels and title. **(2 marks)**\n",
    "plt.scatter(df_filled['Age'], df_filled['Salary'], color='green')\n",
    "plt.xlabel('Age')\n",
    "plt.ylabel('Salary')\n",
    "plt.title('Scatter Plot of Age vs Salary')\n",
    "plt.show()"
   ]
  },
  {
   "cell_type": "markdown",
   "metadata": {},
   "source": [
    "Task: What percentage of individuals have 'Salary' above 50,000? **(1 mark)**"
   ]
  },
  {
   "cell_type": "code",
   "execution_count": 13,
   "metadata": {},
   "outputs": [
    {
     "name": "stdout",
     "output_type": "stream",
     "text": [
      "Percentage of individuals with Salary above 50,000: 75.50%\n"
     ]
    }
   ],
   "source": [
    "# Task: What percentage of individuals have 'Salary' above 50,000? **(1 mark)**\n",
    "percentage_above_50k = (df_filled['Salary'] > 50000).mean() * 100\n",
    "print(f\"Percentage of individuals with Salary above 50,000: {percentage_above_50k:.2f}%\")"
   ]
  },
  {
   "cell_type": "markdown",
   "metadata": {},
   "source": [
    "Task: Create a bar chart showing the count of individuals in each 'Experience' year.  Include appropriate axis labels and title. **(2 marks)**"
   ]
  },
  {
   "cell_type": "code",
   "execution_count": 14,
   "metadata": {},
   "outputs": [
    {
     "data": {
      "image/png": "[encoded data removed]",
      "text/plain": [
       "<Figure size 640x480 with 1 Axes>"
      ]
     },
     "metadata": {},
     "output_type": "display_data"
    }
   ],
   "source": [
    "# Task: Create a bar chart showing the count of individuals in each 'Experience' year.  Include appropriate axis labels and title. **(2 marks)**\n",
    "exp_counts = df_filled['Experience'].value_counts().sort_index()\n",
    "plt.bar(exp_counts.index, exp_counts.values, color='orange')\n",
    "plt.xlabel('Years of Experience')\n",
    "plt.ylabel('Count')\n",
    "plt.title('Count of Individuals by Years of Experience')\n",
    "plt.show()"
   ]
  },
  {
   "cell_type": "markdown",
   "metadata": {},
   "source": [
    "Task: Calculate which 'Rating' has the highest average 'Salary'? **(1 mark)**"
   ]
  },
  {
   "cell_type": "code",
   "execution_count": 15,
   "metadata": {},
   "outputs": [
    {
     "name": "stdout",
     "output_type": "stream",
     "text": [
      "Rating with highest average Salary: 1.42\n"
     ]
    }
   ],
   "source": [
    "# Task: Calculate which 'Rating' has the highest average 'Salary'? **(1 mark)**\n",
    "avg_salary_by_rating = df_filled.groupby('Rating')['Salary'].mean()\n",
    "highest_avg_salary_rating = avg_salary_by_rating.idxmax()\n",
    "print(f\"Rating with highest average Salary: {highest_avg_salary_rating}\")"
   ]
  },
  {
   "cell_type": "markdown",
   "metadata": {},
   "source": [
    "Task: Are there any duplicate rows in the dataset? If yes, remove them. How many rows were removed? **(1 mark)**"
   ]
  },
  {
   "cell_type": "code",
   "execution_count": 16,
   "metadata": {},
   "outputs": [
    {
     "name": "stdout",
     "output_type": "stream",
     "text": [
      "Number of duplicate rows removed: 0\n"
     ]
    }
   ],
   "source": [
    "# Task: Are there any duplicate rows in the dataset? If yes, remove them. How many rows were removed? **(1 mark)**\n",
    "duplicates = df_filled.duplicated().sum()\n",
    "df_no_duplicates = df_filled.drop_duplicates()\n",
    "print(f\"Number of duplicate rows removed: {duplicates}\")"
   ]
  },
  {
   "cell_type": "markdown",
   "metadata": {},
   "source": [
    "Task: Normalise the 'Salary' column so that it ranges from 0 to 1. **(1 mark)**"
   ]
  },
  {
   "cell_type": "code",
   "execution_count": 17,
   "metadata": {},
   "outputs": [
    {
     "name": "stdout",
     "output_type": "stream",
     "text": [
      "      Salary  Salary_Normalized\n",
      "0    63930.0           0.478795\n",
      "1    76774.0           0.664703\n",
      "2    58651.0           0.402385\n",
      "3    92885.0           0.897898\n",
      "4    45997.0           0.219228\n",
      "..       ...                ...\n",
      "195  97840.0           0.969618\n",
      "196  41909.0           0.160057\n",
      "197  44281.0           0.194390\n",
      "198  48387.0           0.253821\n",
      "199  90935.0           0.869673\n",
      "\n",
      "[200 rows x 2 columns]\n"
     ]
    }
   ],
   "source": [
    "# Task: Normalise the 'Salary' column so that it ranges from 0 to 1. **(1 mark)**\n",
    "df_no_duplicates['Salary_Normalized'] = (df_no_duplicates['Salary'] - df_no_duplicates['Salary'].min()) / (df_no_duplicates['Salary'].max() - df_no_duplicates['Salary'].min())\n",
    "print(df_no_duplicates[['Salary', 'Salary_Normalized']])"
   ]
  },
  {
   "cell_type": "markdown",
   "metadata": {},
   "source": [
    "Task: Create a new column 'Age Group' that categorises individuals into labels 'Young', 'Middle-Aged', and 'Senior' based on the age ranges below. **(1 mark)**\\\n",
    "'Young': 18-30 \\\n",
    "'Middle-Aged': 31-50 \\\n",
    "'Senior': 51-60"
   ]
  },
  {
   "cell_type": "code",
   "execution_count": 18,
   "metadata": {},
   "outputs": [
    {
     "name": "stdout",
     "output_type": "stream",
     "text": [
      "     Age Age Group Label\n",
      "0     18           Young\n",
      "1     21           Young\n",
      "2     21           Young\n",
      "3     57          Senior\n",
      "4     27           Young\n",
      "..   ...             ...\n",
      "195   41     Middle-Aged\n",
      "196   50     Middle-Aged\n",
      "197   29           Young\n",
      "198   58          Senior\n",
      "199   38     Middle-Aged\n",
      "\n",
      "[200 rows x 2 columns]\n"
     ]
    }
   ],
   "source": [
    "# Task: Create a new column 'Age Group' that categorises individuals into labels 'Young', 'Middle-Aged', and 'Senior' based on the age ranges below. **(1 mark)**\n",
    "# 'Young': 18-30, 'Middle-Aged': 31-50, 'Senior': 51-60\n",
    "\n",
    "def age_group_label(age):\n",
    "    if 18 <= age <= 30:\n",
    "        return 'Young'\n",
    "    elif 31 <= age <= 50:\n",
    "        return 'Middle-Aged'\n",
    "    elif 51 <= age <= 60:\n",
    "        return 'Senior'\n",
    "    else:\n",
    "        return 'Unknown'\n",
    "\n",
    "df_no_duplicates['Age Group Label'] = df_no_duplicates['Age'].apply(age_group_label)\n",
    "print(df_no_duplicates[['Age', 'Age Group Label']])"
   ]
  },
  {
   "cell_type": "markdown",
   "metadata": {},
   "source": [
    "# Question 2 (15 marks)\n",
    "**Objective**: Develop Python code that performs various linear algebra operations. For each task, write the Python code and print the final results."
   ]
  },
  {
   "cell_type": "markdown",
   "metadata": {},
   "source": [
    "Task: Create the function 'add_two_matrices' that takes two matrices as arguments and sends back the sum of them. **(1 mark)**"
   ]
  },
  {
   "cell_type": "code",
   "execution_count": 19,
   "metadata": {},
   "outputs": [],
   "source": [
    "# Task: Create the function 'add_two_matrices' that takes two matrices as arguments and sends back the sum of them. **(1 mark)**\n",
    "import numpy as np\n",
    "\n",
    "def add_two_matrices(mat1, mat2):\n",
    "    return np.add(mat1, mat2)"
   ]
  },
  {
   "cell_type": "markdown",
   "metadata": {},
   "source": [
    "Task: Create the function 'matrix_determinant' that takes a matrix as argument and returns the determinant. The default parameter value of this function is the 3x3 identity matrix. **(2 marks)**"
   ]
  },
  {
   "cell_type": "code",
   "execution_count": 20,
   "metadata": {},
   "outputs": [],
   "source": [
    "# Task: Create the function 'matrix_determinant' that takes a matrix as argument and returns the determinant. The default parameter value of this function is the 3x3 identity matrix. **(2 marks)**\n",
    "def matrix_determinant(matrix=np.identity(3)):\n",
    "    return np.linalg.det(matrix)"
   ]
  },
  {
   "cell_type": "markdown",
   "metadata": {},
   "source": [
    "Task: Create the function 'inverse_matrix' that takes a matrix as argument and returns its inverse, or prints the \"Matrix non invertible\" message if the determinant of the matrix = 0. **(2 marks)**"
   ]
  },
  {
   "cell_type": "code",
   "execution_count": 21,
   "metadata": {},
   "outputs": [],
   "source": [
    "# Task: Create the function 'inverse_matrix' that takes a matrix as argument and returns its inverse, or prints the \"Matrix non invertible\" message if the determinant of the matrix = 0. **(2 marks)**\n",
    "def inverse_matrix(matrix):\n",
    "    det = np.linalg.det(matrix)\n",
    "    if det == 0:\n",
    "        print(\"Matrix non invertible\")\n",
    "        return None\n",
    "    else:\n",
    "        return np.linalg.inv(matrix)"
   ]
  },
  {
   "cell_type": "markdown",
   "metadata": {},
   "source": [
    "Task: Create the function 'multiply_matrices' that takes two matrices as arguments and returns the dot product of them or prints the message \"Matrix multiplication is not possible\" if their dimensions are not compatible. **(2 marks)**"
   ]
  },
  {
   "cell_type": "code",
   "execution_count": 22,
   "metadata": {},
   "outputs": [],
   "source": [
    "# Task: Create the function 'multiply_matrices' that takes two matrices as arguments and returns the dot product of them or prints the message \"Matrix multiplication is not possible\" if their dimensions are not compatible. **(2 marks)**\n",
    "def multiply_matrices(mat1, mat2):\n",
    "    try:\n",
    "        return np.dot(mat1, mat2)\n",
    "    except ValueError:\n",
    "        print(\"Matrix multiplication is not possible\")\n",
    "        return None"
   ]
  },
  {
   "cell_type": "markdown",
   "metadata": {},
   "source": [
    "Task: Create the function 'matrix_transpose' that takes a matrix as argument and returns its transpose. **(1 mark)**"
   ]
  },
  {
   "cell_type": "code",
   "execution_count": 23,
   "metadata": {},
   "outputs": [],
   "source": [
    "# Task: Create the function 'matrix_transpose' that takes a matrix as argument and returns its transpose. **(1 mark)**\n",
    "def matrix_transpose(matrix):\n",
    "    return np.transpose(matrix)"
   ]
  },
  {
   "cell_type": "markdown",
   "metadata": {},
   "source": [
    "Task: Call 'add_two_matrices' by passing Mat1 and Mat2. Print the result. **(1 mark)**\n",
    "\n",
    "Mat1 = ((4 7 2) (3 5 8) (6 1 9))\\\n",
    "Mat2 = ((1 8 3) (4 2 6) (7 9 5))"
   ]
  },
  {
   "cell_type": "code",
   "execution_count": 24,
   "metadata": {},
   "outputs": [
    {
     "name": "stdout",
     "output_type": "stream",
     "text": [
      "Sum of Mat1 and Mat2:\n",
      " [[ 5 15  5]\n",
      " [ 7  7 14]\n",
      " [13 10 14]]\n"
     ]
    }
   ],
   "source": [
    "# Task: Call 'add_two_matrices' by passing Mat1 and Mat2. Print the result. **(1 mark)**\n",
    "Mat1 = np.array([[4, 7, 2], [3, 5, 8], [6, 1, 9]])\n",
    "Mat2 = np.array([[1, 8, 3], [4, 2, 6], [7, 9, 5]])\n",
    "sum_result = add_two_matrices(Mat1, Mat2)\n",
    "print(\"Sum of Mat1 and Mat2:\\n\", sum_result)"
   ]
  },
  {
   "cell_type": "markdown",
   "metadata": {},
   "source": [
    "Task: Call 'matrix_determinant' by passing Mat1. Print the result. **(1 mark)**\n",
    "\n",
    "Mat1 = ((4 7 2) (3 5 8) (6 1 9))"
   ]
  },
  {
   "cell_type": "code",
   "execution_count": 25,
   "metadata": {},
   "outputs": [
    {
     "name": "stdout",
     "output_type": "stream",
     "text": [
      "Determinant of Mat1: 240.99999999999994\n"
     ]
    }
   ],
   "source": [
    "# Task: Call 'matrix_determinant' by passing Mat1. Print the result. **(1 mark)**\n",
    "det_result = matrix_determinant(Mat1)\n",
    "print(\"Determinant of Mat1:\", det_result)"
   ]
  },
  {
   "cell_type": "markdown",
   "metadata": {},
   "source": [
    "Task: Call 'multiply_matrices' by passing Mat1 and Mat2. Print the result. **(1 mark)**\n",
    "\n",
    "Mat1 = ((4 7 2) (3 5 8) (6 1 9))\\\n",
    "Mat2 = ((1 8 3) (4 2 6) (7 9 5))"
   ]
  },
  {
   "cell_type": "code",
   "execution_count": 26,
   "metadata": {},
   "outputs": [
    {
     "name": "stdout",
     "output_type": "stream",
     "text": [
      "Product of Mat1 and Mat2:\n",
      " [[ 46  64  64]\n",
      " [ 79 106  79]\n",
      " [ 73 131  69]]\n"
     ]
    }
   ],
   "source": [
    "# Task: Call 'multiply_matrices' by passing Mat1 and Mat2. Print the result. **(1 mark)**\n",
    "mult_result = multiply_matrices(Mat1, Mat2)\n",
    "print(\"Product of Mat1 and Mat2:\\n\", mult_result)"
   ]
  },
  {
   "cell_type": "markdown",
   "metadata": {},
   "source": [
    "Task: Call 'inverse_matrix' by passing Mat1. Print the result. Verify the function by showing that the product of the matrix by its inverse is the identity matrix. **(2 marks)**\n",
    "\n",
    "\n",
    "Mat1 = ((4 7 2) (3 5 8) (6 1 9))"
   ]
  },
  {
   "cell_type": "code",
   "execution_count": 27,
   "metadata": {},
   "outputs": [
    {
     "name": "stdout",
     "output_type": "stream",
     "text": [
      "Inverse of Mat1:\n",
      " [[ 0.15352697 -0.25311203  0.19087137]\n",
      " [ 0.08713693  0.09958506 -0.10788382]\n",
      " [-0.1120332   0.15767635 -0.00414938]]\n",
      "Mat1 * Inverse of Mat1 (should be identity matrix):\n",
      " [[ 1.00000000e+00  1.66533454e-16  2.60208521e-17]\n",
      " [ 0.00000000e+00  1.00000000e+00  6.24500451e-17]\n",
      " [-1.66533454e-16  3.05311332e-16  1.00000000e+00]]\n"
     ]
    }
   ],
   "source": [
    "# Task: Call 'inverse_matrix' by passing Mat1. Print the result. Verify the function by showing that the product of the matrix by its inverse is the identity matrix. **(2 marks)**\n",
    "inv_result = inverse_matrix(Mat1)\n",
    "print(\"Inverse of Mat1:\\n\", inv_result)\n",
    "if inv_result is not None:\n",
    "    identity_check = np.dot(Mat1, inv_result)\n",
    "    print(\"Mat1 * Inverse of Mat1 (should be identity matrix):\\n\", identity_check)"
   ]
  },
  {
   "cell_type": "markdown",
   "metadata": {},
   "source": [
    "Task: Call 'matrix_transpose' by passing Mat1. Print the result. Verify the function by showing that applying the function twice results in the same matrix. **(2 marks)**\n",
    "\n",
    "Mat1 = ((4 7 2) (3 5 8) (6 1 9))"
   ]
  },
  {
   "cell_type": "code",
   "execution_count": 28,
   "metadata": {},
   "outputs": [
    {
     "name": "stdout",
     "output_type": "stream",
     "text": [
      "Transpose of Mat1:\n",
      " [[4 3 6]\n",
      " [7 5 1]\n",
      " [2 8 9]]\n",
      "Transpose of the transpose (should be Mat1):\n",
      " [[4 7 2]\n",
      " [3 5 8]\n",
      " [6 1 9]]\n"
     ]
    }
   ],
   "source": [
    "# Task: Call 'matrix_transpose' by passing Mat1. Print the result. Verify the function by showing that applying the function twice results in the same matrix. **(2 marks)**\n",
    "transpose_result = matrix_transpose(Mat1)\n",
    "print(\"Transpose of Mat1:\\n\", transpose_result)\n",
    "double_transpose = matrix_transpose(transpose_result)\n",
    "print(\"Transpose of the transpose (should be Mat1):\\n\", double_transpose)"
   ]
  },
  {
   "cell_type": "markdown",
   "metadata": {},
   "source": [
    "# Question 3 (8 marks)\n",
    "**Objective**: Develop Python code that performs various vector operations and print the results. The project will cover basic vector manipulations such as addition, dot product, vector norms etc. For each task, write the Python code and print the final results."
   ]
  },
  {
   "cell_type": "markdown",
   "metadata": {},
   "source": [
    "The following two vectors are given:\n",
    "\n",
    "vector1 = (-1i, 4j)\\\n",
    "vector2 = (5i, 3j)"
   ]
  },
  {
   "cell_type": "markdown",
   "metadata": {},
   "source": [
    "Task: Add vector1 and vector2 and print the result. **(1 mark)**"
   ]
  },
  {
   "cell_type": "code",
   "execution_count": 29,
   "metadata": {},
   "outputs": [
    {
     "name": "stdout",
     "output_type": "stream",
     "text": [
      "Sum of vector1 and vector2: [4 7]\n"
     ]
    }
   ],
   "source": [
    "# Task: Add vector1 and vector2 and print the result. **(1 mark)**\n",
    "import numpy as np\n",
    "\n",
    "vector1 = np.array([-1, 4])\n",
    "vector2 = np.array([5, 3])\n",
    "\n",
    "vector_sum = vector1 + vector2\n",
    "print(\"Sum of vector1 and vector2:\", vector_sum)"
   ]
  },
  {
   "cell_type": "markdown",
   "metadata": {},
   "source": [
    "Task: Find the norm (magnitude) of vector1 and vector2 and print the results. **(1 mark)**"
   ]
  },
  {
   "cell_type": "code",
   "execution_count": 30,
   "metadata": {},
   "outputs": [
    {
     "name": "stdout",
     "output_type": "stream",
     "text": [
      "Norm of vector1: 4.123105625617661\n",
      "Norm of vector2: 5.830951894845301\n"
     ]
    }
   ],
   "source": [
    "# Task: Find the norm (magnitude) of vector1 and vector2 and print the results. **(1 mark)**\n",
    "norm_vector1 = np.linalg.norm(vector1)\n",
    "norm_vector2 = np.linalg.norm(vector2)\n",
    "print(\"Norm of vector1:\", norm_vector1)\n",
    "print(\"Norm of vector2:\", norm_vector2)"
   ]
  },
  {
   "cell_type": "markdown",
   "metadata": {},
   "source": [
    "Task: Calculate the dot product of vector1 and vector2 and print the result. **(1 mark)**"
   ]
  },
  {
   "cell_type": "code",
   "execution_count": 31,
   "metadata": {},
   "outputs": [
    {
     "name": "stdout",
     "output_type": "stream",
     "text": [
      "Dot product of vector1 and vector2: 7\n"
     ]
    }
   ],
   "source": [
    "# Task: Calculate the dot product of vector1 and vector2 and print the result. **(1 mark)**\n",
    "dot_product = np.dot(vector1, vector2)\n",
    "print(\"Dot product of vector1 and vector2:\", dot_product)"
   ]
  },
  {
   "cell_type": "markdown",
   "metadata": {},
   "source": [
    "Task: Find the angle between the two vectors both in radians and degrees. **(2 marks)**"
   ]
  },
  {
   "cell_type": "code",
   "execution_count": 32,
   "metadata": {},
   "outputs": [
    {
     "name": "stdout",
     "output_type": "stream",
     "text": [
      "Angle between vectors (radians): 1.2753554896511767\n",
      "Angle between vectors (degrees): 73.07248693585296\n"
     ]
    }
   ],
   "source": [
    "# Task: Find the angle between the two vectors both in radians and degrees. **(2 marks)**\n",
    "cos_theta = dot_product / (norm_vector1 * norm_vector2)\n",
    "angle_rad = np.arccos(np.clip(cos_theta, -1.0, 1.0))\n",
    "angle_deg = np.degrees(angle_rad)\n",
    "print(\"Angle between vectors (radians):\", angle_rad)\n",
    "print(\"Angle between vectors (degrees):\", angle_deg)"
   ]
  },
  {
   "cell_type": "markdown",
   "metadata": {},
   "source": [
    "Task: Use matplotlib to plot vector1, vector2 and their sum. Use different colours for each vector, a grid, a legend, and a title. **(3 marks)**"
   ]
  },
  {
   "cell_type": "code",
   "execution_count": 33,
   "metadata": {},
   "outputs": [
    {
     "data": {
      "text/plain": [
       "Text(0, 0.5, 'j')"
      ]
     },
     "execution_count": 33,
     "metadata": {},
     "output_type": "execute_result"
    },
    {
     "data": {
      "image/png": "[encoded data removed]",
      "text/plain": [
       "<Figure size 640x480 with 1 Axes>"
      ]
     },
     "metadata": {},
     "output_type": "display_data"
    }
   ],
   "source": [
    "# Task: Use matplotlib to plot vector1, vector2 and their sum. Use different colours for each vector, a grid, a legend, and a title. **(3 marks)**\n",
    "import matplotlib.pyplot as plt\n",
    "\n",
    "origin = [0, 0]\n",
    "plt.quiver(*origin, vector1[0], vector1[1], angles='xy', scale_units='xy', scale=1, color='r', label='vector1')\n",
    "plt.quiver(*origin, vector2[0], vector2[1], angles='xy', scale_units='xy', scale=1, color='b', label='vector2')\n",
    "plt.quiver(*origin, vector_sum[0], vector_sum[1], angles='xy', scale_units='xy', scale=1, color='g', label='vector1 + vector2')\n",
    "\n",
    "plt.xlim(-2, 7)\n",
    "plt.ylim(-2, 7)\n",
    "plt.grid(True)\n",
    "plt.legend()\n",
    "plt.title('Plot of vector1, vector2, and their sum')\n",
    "plt.xlabel('i')\n",
    "plt.ylabel('j')"
   ]
  },
  {
   "cell_type": "markdown",
   "metadata": {},
   "source": [
    "# Question 4 (9 marks)\n",
    "**Objective**: Code a Python class program that allows users to input its attributes and print the results of the class. For each task, write the Python code and print the final results."
   ]
  },
  {
   "cell_type": "markdown",
   "metadata": {},
   "source": [
    "Task: Create the  class 'Student' with attributes 'student_id', 'first_name', 'last_name', 'year_of_birth' and 'course'. **(3 marks)**"
   ]
  },
  {
   "cell_type": "code",
   "execution_count": 35,
   "metadata": {},
   "outputs": [],
   "source": [
    "# Task: Create the class 'Student' with attributes 'student_id', 'first_name', 'last_name', 'year_of_birth' and 'course'. **(3 marks)**\n",
    "class Student:\n",
    "    def __init__(self, student_id, first_name, last_name, year_of_birth, course):\n",
    "        self.student_id = student_id\n",
    "        self.first_name = first_name\n",
    "        self.last_name = last_name\n",
    "        self.year_of_birth = year_of_birth\n",
    "        self.course = course"
   ]
  },
  {
   "cell_type": "markdown",
   "metadata": {},
   "source": [
    "Task: Create an object of the class 'Student' using your details. **(1 mark)**"
   ]
  },
  {
   "cell_type": "code",
   "execution_count": 36,
   "metadata": {},
   "outputs": [],
   "source": [
    "# Task: Create an object of the class 'Student' using your details. **(1 mark)**\n",
    "student1 = Student('12345678', 'Talha', 'Ahmad', 2000, 'Introduction to Programming')"
   ]
  },
  {
   "cell_type": "markdown",
   "metadata": {},
   "source": [
    "Task: Print the object attributes one by one. **(5 marks)**"
   ]
  },
  {
   "cell_type": "code",
   "execution_count": 37,
   "metadata": {},
   "outputs": [
    {
     "name": "stdout",
     "output_type": "stream",
     "text": [
      "Student ID: 12345678\n"
     ]
    }
   ],
   "source": [
    "# Task: Print the object attributes one by one. **(5 marks)**\n",
    "print(\"Student ID:\", student1.student_id)"
   ]
  },
  {
   "cell_type": "code",
   "execution_count": 38,
   "metadata": {},
   "outputs": [
    {
     "name": "stdout",
     "output_type": "stream",
     "text": [
      "First Name: Talha\n"
     ]
    }
   ],
   "source": [
    "print(\"First Name:\", student1.first_name)"
   ]
  },
  {
   "cell_type": "code",
   "execution_count": 39,
   "metadata": {},
   "outputs": [
    {
     "name": "stdout",
     "output_type": "stream",
     "text": [
      "Last Name: Ahmad\n"
     ]
    }
   ],
   "source": [
    "print(\"Last Name:\", student1.last_name)"
   ]
  },
  {
   "cell_type": "code",
   "execution_count": 40,
   "metadata": {},
   "outputs": [
    {
     "name": "stdout",
     "output_type": "stream",
     "text": [
      "Year of Birth: 2000\n"
     ]
    }
   ],
   "source": [
    "print(\"Year of Birth:\", student1.year_of_birth)"
   ]
  },
  {
   "cell_type": "code",
   "execution_count": 41,
   "metadata": {},
   "outputs": [
    {
     "name": "stdout",
     "output_type": "stream",
     "text": [
      "Course: Introduction to Programming\n"
     ]
    }
   ],
   "source": [
    "print(\"Course:\", student1.course)"
   ]
  },
  {
   "cell_type": "markdown",
   "metadata": {},
   "source": [
    "# Question 5 (15 marks)\n",
    "**Objective**:\\\n",
    "Develop Python code that:\\\n",
    "    1) Solves a system of linear equations.\\\n",
    "    2) Performs statistical analysis on a set of data points, specifically focusing on the normal and uniform distributions.\\\n",
    "For each task, write the Python code and print the final results."
   ]
  },
  {
   "cell_type": "markdown",
   "metadata": {},
   "source": [
    "Task: Solve the below system of two linear equations with two unknowns and print the results. **(2 marks)**\n",
    "\n",
    "Given equations:\\\n",
    "x + 2y = 3\\\n",
    "4x + 5y = 6"
   ]
  },
  {
   "cell_type": "code",
   "execution_count": 42,
   "metadata": {},
   "outputs": [
    {
     "name": "stdout",
     "output_type": "stream",
     "text": [
      "Solution for x and y: [-1.  2.]\n"
     ]
    }
   ],
   "source": [
    "# Task: Solve the below system of two linear equations with two unknowns and print the results. **(2 marks)**\n",
    "# x + 2y = 3\n",
    "# 4x + 5y = 6\n",
    "\n",
    "import numpy as np\n",
    "\n",
    "A = np.array([[1, 2], [4, 5]])\n",
    "b = np.array([3, 6])\n",
    "solution = np.linalg.solve(A, b)\n",
    "print(\"Solution for x and y:\", solution)"
   ]
  },
  {
   "cell_type": "markdown",
   "metadata": {},
   "source": [
    "Task: Generate 1000 random samples from a normal (Gaussian) distribution with mean = 10 and standard deviation = 10. **(1 mark)**"
   ]
  },
  {
   "cell_type": "code",
   "execution_count": 43,
   "metadata": {},
   "outputs": [],
   "source": [
    "# Task: Generate 1000 random samples from a normal (Gaussian) distribution with mean = 10 and standard deviation = 10. **(1 mark)**\n",
    "normal_samples = np.random.normal(loc=10, scale=10, size=1000)"
   ]
  },
  {
   "cell_type": "markdown",
   "metadata": {},
   "source": [
    "Task: Calculate the mean, median, and standard deviation of the dataset and print them. **(1 mark)**"
   ]
  },
  {
   "cell_type": "code",
   "execution_count": 44,
   "metadata": {},
   "outputs": [
    {
     "name": "stdout",
     "output_type": "stream",
     "text": [
      "Mean: 9.731083562658092\n",
      "Median: 9.923454126861152\n",
      "Standard Deviation: 9.846566968618944\n"
     ]
    }
   ],
   "source": [
    "# Task: Calculate the mean, median, and standard deviation of the dataset and print them. **(1 mark)**\n",
    "mean_val = np.mean(normal_samples)\n",
    "median_val = np.median(normal_samples)\n",
    "std_val = np.std(normal_samples)\n",
    "print(\"Mean:\", mean_val)\n",
    "print(\"Median:\", median_val)\n",
    "print(\"Standard Deviation:\", std_val)"
   ]
  },
  {
   "cell_type": "markdown",
   "metadata": {},
   "source": [
    "Task: Plot the histogram using matplotlib. Include appropriate axis labels and title. **(2 marks)**"
   ]
  },
  {
   "cell_type": "code",
   "execution_count": 45,
   "metadata": {},
   "outputs": [
    {
     "data": {
      "image/png": "[encoded data removed]",
      "text/plain": [
       "<Figure size 640x480 with 1 Axes>"
      ]
     },
     "metadata": {},
     "output_type": "display_data"
    }
   ],
   "source": [
    "# Task: Plot the histogram using matplotlib. Include appropriate axis labels and title. **(2 marks)**\n",
    "import matplotlib.pyplot as plt\n",
    "\n",
    "plt.hist(normal_samples, bins=30, color='skyblue', edgecolor='black')\n",
    "plt.xlabel('Value')\n",
    "plt.ylabel('Frequency')\n",
    "plt.title('Histogram of Normal Distribution Samples')\n",
    "plt.show()"
   ]
  },
  {
   "cell_type": "markdown",
   "metadata": {},
   "source": [
    "Task: Plot the probability density function using seaborn. Include appropriate axis labels and title. **(2 marks)**"
   ]
  },
  {
   "cell_type": "code",
   "execution_count": 46,
   "metadata": {},
   "outputs": [
    {
     "data": {
      "image/png": "[encoded data removed]",
      "text/plain": [
       "<Figure size 640x480 with 1 Axes>"
      ]
     },
     "metadata": {},
     "output_type": "display_data"
    }
   ],
   "source": [
    "# Task: Plot the probability density function using seaborn. Include appropriate axis labels and title. **(2 marks)**\n",
    "import seaborn as sns\n",
    "\n",
    "sns.kdeplot(normal_samples, fill=True, color='purple')\n",
    "plt.xlabel('Value')\n",
    "plt.ylabel('Density')\n",
    "plt.title('Probability Density Function (Normal Distribution)')\n",
    "plt.show()"
   ]
  },
  {
   "cell_type": "markdown",
   "metadata": {},
   "source": [
    "Task: Create a pie-chart that has two pieces (wedges): One that includes samples that have values above (mean + standard deviation), and the other includes the samples with values below (mean + standard deviation). Explode the above threshold slice. Give appropriate colours to the slices. Add labels \"Above Threshold\" and \"Below Threshold\". Show the percentage values in the pieces. Include an appropriate title. **(3 marks)**"
   ]
  },
  {
   "cell_type": "code",
   "execution_count": 47,
   "metadata": {
    "scrolled": true
   },
   "outputs": [
    {
     "data": {
      "image/png": "[encoded data removed]",
      "text/plain": [
       "<Figure size 640x480 with 1 Axes>"
      ]
     },
     "metadata": {},
     "output_type": "display_data"
    }
   ],
   "source": [
    "# Task: Create a pie-chart that has two pieces (wedges): One that includes samples that have values above (mean + standard deviation), and the other includes the samples with values below (mean + standard deviation). Explode the above threshold slice. Give appropriate colours to the slices. Add labels \"Above Threshold\" and \"Below Threshold\". Show the percentage values in the pieces. Include an appropriate title. **(3 marks)**\n",
    "threshold = mean_val + std_val\n",
    "above = np.sum(normal_samples > threshold)\n",
    "below = np.sum(normal_samples <= threshold)\n",
    "sizes = [above, below]\n",
    "labels = ['Above Threshold', 'Below Threshold']\n",
    "colors = ['#ff9999', '#66b3ff']\n",
    "explode = (0.1, 0)  # explode the 'Above Threshold' slice\n",
    "\n",
    "plt.pie(sizes, labels=labels, colors=colors, explode=explode, autopct='%1.1f%%', startangle=140)\n",
    "plt.title('Samples Above and Below (Mean + Std Dev)')\n",
    "plt.show()"
   ]
  },
  {
   "cell_type": "markdown",
   "metadata": {},
   "source": [
    "Task: Generate 500 samples that come from a uniform distribution in between [-1, 1]. **(1 mark)**"
   ]
  },
  {
   "cell_type": "code",
   "execution_count": 48,
   "metadata": {},
   "outputs": [],
   "source": [
    "# Task: Generate 500 samples that come from a uniform distribution in between [-1, 1]. **(1 mark)**\n",
    "uniform_samples = np.random.uniform(low=-1, high=1, size=500)"
   ]
  },
  {
   "cell_type": "markdown",
   "metadata": {},
   "source": [
    "Task: Find how many numbers are between 0 and 0.5, and print the result. **(1 mark)**"
   ]
  },
  {
   "cell_type": "code",
   "execution_count": 49,
   "metadata": {},
   "outputs": [
    {
     "name": "stdout",
     "output_type": "stream",
     "text": [
      "Numbers between 0 and 0.5: 119\n"
     ]
    }
   ],
   "source": [
    "# Task: Find how many numbers are between 0 and 0.5, and print the result. **(1 mark)**\n",
    "count_between = np.sum((uniform_samples > 0) & (uniform_samples < 0.5))\n",
    "print(\"Numbers between 0 and 0.5:\", count_between)\n"
   ]
  },
  {
   "cell_type": "markdown",
   "metadata": {},
   "source": [
    "Task: Plot the probability density function of the uniform distribution. Include appropriate axis labels and title. **(2 marks)**"
   ]
  },
  {
   "cell_type": "code",
   "execution_count": 52,
   "metadata": {},
   "outputs": [
    {
     "data": {
      "text/plain": [
       "Text(0.5, 1.0, 'Probability Density Function (Uniform Distribution)')"
      ]
     },
     "execution_count": 52,
     "metadata": {},
     "output_type": "execute_result"
    },
    {
     "data": {
      "image/png": "[encoded data removed]",
      "text/plain": [
       "<Figure size 640x480 with 1 Axes>"
      ]
     },
     "metadata": {},
     "output_type": "display_data"
    }
   ],
   "source": [
    "# Task: Plot the probability density function of the uniform distribution. Include appropriate axis labels and title. **(2 marks)**\n",
    "sns.kdeplot(uniform_samples, fill=True, color='orange')\n",
    "plt.xlabel('Value')\n",
    "plt.ylabel('Density')\n",
    "plt.title('Probability Density Function (Uniform Distribution)')"
   ]
  }
 ],
 "metadata": {
  "kernelspec": {
   "display_name": "Python 3",
   "language": "python",
   "name": "python3"
  },
  "language_info": {
   "codemirror_mode": {
    "name": "ipython",
    "version": 3
   },
   "file_extension": ".py",
   "mimetype": "text/x-python",
   "name": "python",
   "nbconvert_exporter": "python",
   "pygments_lexer": "ipython3",
   "version": "3.10.11"
  }
 },
 "nbformat": 4,
 "nbformat_minor": 4
}
